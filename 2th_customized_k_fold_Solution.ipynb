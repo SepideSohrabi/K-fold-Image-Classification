{
  "nbformat": 4,
  "nbformat_minor": 0,
  "metadata": {
    "colab": {
      "provenance": [],
      "mount_file_id": "19-wZI_Zx1iLcSuR2ib1PXmvv2WTTLaPp",
      "authorship_tag": "ABX9TyPzOLY0GhgCwxLxd6qxZhBL",
      "include_colab_link": true
    },
    "kernelspec": {
      "name": "python3",
      "display_name": "Python 3"
    },
    "language_info": {
      "name": "python"
    }
  },
  "cells": [
    {
      "cell_type": "markdown",
      "metadata": {
        "id": "view-in-github",
        "colab_type": "text"
      },
      "source": [
        "<a href=\"https://colab.research.google.com/github/SepideSohrabi/K-fold-Image-Classification/blob/main/2th_customized_k_fold_Solution.ipynb\" target=\"_parent\"><img src=\"https://colab.research.google.com/assets/colab-badge.svg\" alt=\"Open In Colab\"/></a>"
      ]
    },
    {
      "cell_type": "code",
      "execution_count": 1,
      "metadata": {
        "id": "pngt5Y-cuS92"
      },
      "outputs": [],
      "source": [
        "import numpy as np\n",
        "from sklearn.metrics import accuracy_score, f1_score, precision_score, confusion_matrix\n",
        "from sklearn.model_selection import StratifiedKFold\n",
        "from PIL import Image\n",
        "import random\n",
        "import tensorflow as tf\n",
        "from tensorflow.keras.models import Sequential\n",
        "from keras.preprocessing.image import ImageDataGenerator\n",
        "from tensorflow.keras.layers import Dense, Dropout, Flatten, Conv2D, MaxPooling2D\n",
        "from tensorflow.compat.v1 import ConfigProto\n",
        "from tensorflow.compat.v1 import InteractiveSession\n",
        "import warnings\n",
        "import os\n",
        "import shutil\n",
        "from PIL import ImageFile\n",
        "warnings.simplefilter('error', Image.DecompressionBombWarning)\n",
        "ImageFile.LOAD_TRUNCATED_IMAGES = True\n",
        "Image.MAX_IMAGE_PIXELS = 1000000000\n",
        "config = ConfigProto()\n",
        "config.gpu_options.allow_growth = True\n",
        "session = InteractiveSession(config=config)"
      ]
    },
    {
      "cell_type": "code",
      "source": [
        "#C:\\Users\\sadma\\AppData\\Roaming\\Python\\Python37\\site-packages\\tensorflow\\python\\client\\session.py:1766: UserWarning: An interactive session is already active. This can cause out-of-memory errors in some cases. You must explicitly call `InteractiveSession.close()` to release resources held by the other session(s).\n",
        "  #warnings.warn('An interactive session is already active. This can '"
      ],
      "metadata": {
        "id": "n4pYhhQCxGJu"
      },
      "execution_count": null,
      "outputs": []
    },
    {
      "cell_type": "code",
      "source": [
        "\n",
        "\n",
        "# Make it False if do not intend to use Google Colab and want to train in local machine!!\n",
        "google_colab_flag = True\n",
        "\n",
        "# For training in Google Colab\n",
        "if(google_colab_flag):\n",
        "    from google.colab import drive\n",
        "    drive.mount('/content/drive')\n",
        "    !ls\n",
        "    import sys\n",
        "    # This is the path to where in google drive the code is stored!\n",
        "    \n",
        "    root_path = '/content/drive/MyDrive/AmnAzmoonPics/'\n",
        "    sys.path.append(root_path)\n",
        "\n",
        "# For local training\n",
        "else:\n",
        "    root_path = ''\n",
        "\n"
      ],
      "metadata": {
        "id": "4Lm9g2cmxGHV",
        "colab": {
          "base_uri": "https://localhost:8080/"
        },
        "outputId": "4cd9790e-bd3a-4240-a77d-72af1cd0f386"
      },
      "execution_count": 2,
      "outputs": [
        {
          "output_type": "stream",
          "name": "stdout",
          "text": [
            "Mounted at /content/drive\n",
            "drive  sample_data\n"
          ]
        }
      ]
    },
    {
      "cell_type": "code",
      "source": [
        " root_path"
      ],
      "metadata": {
        "colab": {
          "base_uri": "https://localhost:8080/",
          "height": 35
        },
        "id": "RLuDzQ9cKgm4",
        "outputId": "a813106f-b2d2-4d31-90de-9eef4436b24f"
      },
      "execution_count": 3,
      "outputs": [
        {
          "output_type": "execute_result",
          "data": {
            "text/plain": [
              "'/content/drive/MyDrive/AmnAzmoonPics/'"
            ],
            "application/vnd.google.colaboratory.intrinsic+json": {
              "type": "string"
            }
          },
          "metadata": {},
          "execution_count": 3
        }
      ]
    },
    {
      "cell_type": "code",
      "source": [
        "from PIL import Image\n",
        "import glob\n",
        "image_legal = []\n",
        "for filename in glob.glob('/content/drive/MyDrive/AmnAzmoonPics/DS/train/Legal/*.png'): #assuming gif\n",
        "    im=Image.open(filename)\n",
        "    image_legal.append(im)"
      ],
      "metadata": {
        "id": "eYBwoBQiwkh8"
      },
      "execution_count": 12,
      "outputs": []
    },
    {
      "cell_type": "code",
      "source": [
        "image_ilegal = []\n",
        "for filename in glob.glob('/content/drive/MyDrive/AmnAzmoonPics/DS/train/iLegal/*.png'): #assuming gif\n",
        "    im=Image.open(filename)\n",
        "    image_ilegal.append(im)"
      ],
      "metadata": {
        "id": "Y0EPXGflxhg2"
      },
      "execution_count": 13,
      "outputs": []
    },
    {
      "cell_type": "code",
      "source": [
        "image_ilegal"
      ],
      "metadata": {
        "colab": {
          "base_uri": "https://localhost:8080/"
        },
        "id": "YJLYC-oQxyJ9",
        "outputId": "a1cc39b1-9d06-40f9-afa8-749686d9ee03"
      },
      "execution_count": 14,
      "outputs": [
        {
          "output_type": "execute_result",
          "data": {
            "text/plain": [
              "[<PIL.PngImagePlugin.PngImageFile image mode=RGB size=2736x1824 at 0x7EFDAB6D2430>,\n",
              " <PIL.PngImagePlugin.PngImageFile image mode=RGB size=2736x1824 at 0x7EFDAB6D27C0>,\n",
              " <PIL.PngImagePlugin.PngImageFile image mode=RGB size=2736x1824 at 0x7EFDAB6D2610>,\n",
              " <PIL.PngImagePlugin.PngImageFile image mode=RGB size=2736x1824 at 0x7EFDAB6D2550>,\n",
              " <PIL.PngImagePlugin.PngImageFile image mode=RGB size=2736x1824 at 0x7EFDAB66A940>,\n",
              " <PIL.PngImagePlugin.PngImageFile image mode=RGB size=2736x1824 at 0x7EFDAB66A9A0>,\n",
              " <PIL.PngImagePlugin.PngImageFile image mode=RGB size=2733x1641 at 0x7EFDAB66AA30>,\n",
              " <PIL.PngImagePlugin.PngImageFile image mode=RGB size=2736x1824 at 0x7EFDAB66AA90>,\n",
              " <PIL.PngImagePlugin.PngImageFile image mode=RGB size=2736x1824 at 0x7EFDAB66AAF0>,\n",
              " <PIL.PngImagePlugin.PngImageFile image mode=RGB size=2736x1824 at 0x7EFDAB66AB50>,\n",
              " <PIL.PngImagePlugin.PngImageFile image mode=RGB size=2736x1824 at 0x7EFDAB66ABB0>,\n",
              " <PIL.PngImagePlugin.PngImageFile image mode=RGB size=2736x1824 at 0x7EFDAB66AC10>,\n",
              " <PIL.PngImagePlugin.PngImageFile image mode=RGB size=2736x1824 at 0x7EFDAB66AC70>,\n",
              " <PIL.PngImagePlugin.PngImageFile image mode=RGB size=2736x1824 at 0x7EFDAB66ACD0>,\n",
              " <PIL.PngImagePlugin.PngImageFile image mode=RGB size=2736x1824 at 0x7EFDAB66AD30>,\n",
              " <PIL.PngImagePlugin.PngImageFile image mode=RGB size=2736x1824 at 0x7EFDAB66ADC0>,\n",
              " <PIL.PngImagePlugin.PngImageFile image mode=RGB size=2736x1824 at 0x7EFDAB66ADF0>,\n",
              " <PIL.PngImagePlugin.PngImageFile image mode=RGB size=2736x1824 at 0x7EFDAB66AE20>,\n",
              " <PIL.PngImagePlugin.PngImageFile image mode=RGB size=2736x1824 at 0x7EFDAB66AEE0>,\n",
              " <PIL.PngImagePlugin.PngImageFile image mode=RGB size=2736x1824 at 0x7EFDAB66AF10>,\n",
              " <PIL.PngImagePlugin.PngImageFile image mode=RGB size=2736x1824 at 0x7EFDAB66AF70>,\n",
              " <PIL.PngImagePlugin.PngImageFile image mode=RGB size=2736x1824 at 0x7EFDAB66AFD0>,\n",
              " <PIL.PngImagePlugin.PngImageFile image mode=RGB size=2736x1824 at 0x7EFDAB683040>,\n",
              " <PIL.PngImagePlugin.PngImageFile image mode=RGB size=2736x1824 at 0x7EFDAB6830D0>,\n",
              " <PIL.PngImagePlugin.PngImageFile image mode=RGB size=2736x1824 at 0x7EFDAB683130>,\n",
              " <PIL.PngImagePlugin.PngImageFile image mode=RGB size=2736x1824 at 0x7EFDAB683190>,\n",
              " <PIL.PngImagePlugin.PngImageFile image mode=RGB size=2736x1824 at 0x7EFDAB6831F0>,\n",
              " <PIL.PngImagePlugin.PngImageFile image mode=RGB size=2736x1824 at 0x7EFDAB683250>,\n",
              " <PIL.PngImagePlugin.PngImageFile image mode=RGB size=2736x1824 at 0x7EFDAB6832B0>,\n",
              " <PIL.PngImagePlugin.PngImageFile image mode=RGB size=2736x1824 at 0x7EFDAB683310>,\n",
              " <PIL.PngImagePlugin.PngImageFile image mode=RGB size=2736x1824 at 0x7EFDAB683370>,\n",
              " <PIL.PngImagePlugin.PngImageFile image mode=RGB size=2736x1824 at 0x7EFDAB6833D0>,\n",
              " <PIL.PngImagePlugin.PngImageFile image mode=RGB size=2736x1824 at 0x7EFDAB683430>,\n",
              " <PIL.PngImagePlugin.PngImageFile image mode=RGB size=2736x1824 at 0x7EFDAB683490>,\n",
              " <PIL.PngImagePlugin.PngImageFile image mode=RGB size=2736x1824 at 0x7EFDAB6834F0>,\n",
              " <PIL.PngImagePlugin.PngImageFile image mode=RGB size=2736x1824 at 0x7EFDAB683550>,\n",
              " <PIL.PngImagePlugin.PngImageFile image mode=RGB size=2736x1824 at 0x7EFDAB6835B0>,\n",
              " <PIL.PngImagePlugin.PngImageFile image mode=RGB size=2736x1824 at 0x7EFDAB683610>,\n",
              " <PIL.PngImagePlugin.PngImageFile image mode=RGB size=2736x1824 at 0x7EFDAB683670>,\n",
              " <PIL.PngImagePlugin.PngImageFile image mode=RGB size=2736x1824 at 0x7EFDAB6836D0>,\n",
              " <PIL.PngImagePlugin.PngImageFile image mode=RGB size=2736x1824 at 0x7EFDAB683730>,\n",
              " <PIL.PngImagePlugin.PngImageFile image mode=RGB size=2736x1824 at 0x7EFDAB683790>,\n",
              " <PIL.PngImagePlugin.PngImageFile image mode=RGB size=2736x1824 at 0x7EFDAB6837F0>,\n",
              " <PIL.PngImagePlugin.PngImageFile image mode=RGB size=2736x1824 at 0x7EFDAB683850>,\n",
              " <PIL.PngImagePlugin.PngImageFile image mode=RGB size=2736x1824 at 0x7EFDAB6838B0>,\n",
              " <PIL.PngImagePlugin.PngImageFile image mode=RGB size=2736x1824 at 0x7EFDAB683910>]"
            ]
          },
          "metadata": {},
          "execution_count": 14
        }
      ]
    },
    {
      "cell_type": "code",
      "source": [
        "dataset_folder_name = os.path.join(root_path, 'DS')\n",
        "MODEL_FILENAME = root_path+\"model_cv.h5\"\n",
        "source_files = []\n",
        "class_labels = ['Legal', 'iLegal']\n",
        "X = []\n",
        "Y = []\n",
        "\n",
        "img_rows, img_cols = 100, 100  # input image dimensions\n",
        "train_path = os.path.join(dataset_folder_name, 'train')\n",
        "validation_path = os.path.join(dataset_folder_name, 'validation')\n",
        "test_path = os.path.join(dataset_folder_name, 'test')"
      ],
      "metadata": {
        "id": "ut5noqrlxGEc"
      },
      "execution_count": 4,
      "outputs": []
    },
    {
      "cell_type": "code",
      "source": [
        "test_path"
      ],
      "metadata": {
        "colab": {
          "base_uri": "https://localhost:8080/",
          "height": 35
        },
        "id": "uYLVOZnrw3A4",
        "outputId": "171346bb-1f50-4375-f36d-a19ade52e1af"
      },
      "execution_count": null,
      "outputs": [
        {
          "output_type": "execute_result",
          "data": {
            "text/plain": [
              "'/content/drive/MyDrive/AmnAzmoonPics/DS/test'"
            ],
            "application/vnd.google.colaboratory.intrinsic+json": {
              "type": "string"
            }
          },
          "metadata": {},
          "execution_count": 19
        }
      ]
    },
    {
      "cell_type": "code",
      "source": [
        "def transfer_between_folders(source, dest, split_rate):\n",
        "    \"\"\" Based on the split ratio this function moves some portion of the source folder to destination folder!\n",
        "\n",
        "        Args:\n",
        "            source: str\n",
        "                Source folder's path\n",
        "            dest: str\n",
        "                Destination folder's path\n",
        "            split_rate: float\n",
        "                Ratio of files to move from source to dest locaiton\n",
        "\n",
        "    \"\"\"\n",
        "    global source_files\n",
        "    source_files = os.listdir(source)\n",
        "    if(len(source_files) != 0):\n",
        "        transfer_file_numbers = int(len(source_files)*split_rate)\n",
        "        transfer_index = random.sample(\n",
        "            range(0, len(source_files)), transfer_file_numbers)\n",
        "        for each_index in transfer_index:\n",
        "            shutil.move(os.path.join(source, str(source_files[each_index])), os.path.join(\n",
        "                dest, str(source_files[each_index])))\n",
        "\n",
        "    else:\n",
        "        print(\"No file moved. Source empty!\")\n",
        "\n",
        "\n",
        "def transfer_all_class_between_folders(source, dest, split_rate):\n",
        "    \"\"\" Transfer the files from source to dest for all the classes. This function calls the 'transfer_between_folders' to actually perform the transfer.\n",
        "\n",
        "        Args:\n",
        "            source: str\n",
        "                Source folder's path\n",
        "            dest: str\n",
        "                Destination folder's path\n",
        "            split_rate: float\n",
        "                Ratio of files to move from source to dest locaiton\n",
        "\n",
        "    \"\"\"\n",
        "    for label in class_labels:\n",
        "        transfer_between_folders(os.path.join(dataset_folder_name, source, label),\n",
        "                                 os.path.join(\n",
        "                                     dataset_folder_name, dest, label),\n",
        "                                 split_rate)\n",
        "\n",
        "\n",
        "def my_metrics(y_true, y_pred):\n",
        "    \"\"\" Calculate accuracy, precision, and f1 score of the model's prediction with respect to true labels.\n",
        "\n",
        "        Args:\n",
        "            y_true: list/array\n",
        "                All true class labels\n",
        "            y_pred: list/array\n",
        "                All predicted class labels\n",
        "\n",
        "        Returns:\n",
        "            accuracy: float\n",
        "                Accuracy measure of the model\n",
        "            precision: float\n",
        "                Precision measure of the model\n",
        "            f1_Score: float\n",
        "                F1-score measure of the model\n",
        "\n",
        "    \"\"\"\n",
        "    accuracy = accuracy_score(y_true, y_pred)\n",
        "    precision = precision_score(y_true, y_pred, average='weighted')\n",
        "    f1_Score = f1_score(y_true, y_pred, average='weighted')\n",
        "    print(\"Accuracy  : {}\".format(accuracy))\n",
        "    print(\"Precision : {}\".format(precision))\n",
        "    print(\"f1Score : {}\".format(f1_Score))\n",
        "    cm = confusion_matrix(y_true, y_pred)\n",
        "    print(cm)\n",
        "    return accuracy, precision, f1_Score"
      ],
      "metadata": {
        "id": "KeX0LaQQxGBw"
      },
      "execution_count": 5,
      "outputs": []
    },
    {
      "cell_type": "code",
      "source": [
        "#First, check if test folder is empty or not, if not transfer all existing files to train.\n"
      ],
      "metadata": {
        "id": "zf4WM-eFxF-3"
      },
      "execution_count": null,
      "outputs": []
    },
    {
      "cell_type": "code",
      "source": [
        "transfer_all_class_between_folders('test', 'train', 1.0)"
      ],
      "metadata": {
        "id": "tJDfo5DuxF70",
        "colab": {
          "base_uri": "https://localhost:8080/"
        },
        "outputId": "9a0ce68a-6076-4ddb-957a-2c333ad1a247"
      },
      "execution_count": 6,
      "outputs": [
        {
          "output_type": "stream",
          "name": "stdout",
          "text": [
            "No file moved. Source empty!\n",
            "No file moved. Source empty!\n"
          ]
        }
      ]
    },
    {
      "cell_type": "code",
      "source": [
        "#Now, split some part of train data into the test folders."
      ],
      "metadata": {
        "id": "c5zvfSlwxF5N"
      },
      "execution_count": null,
      "outputs": []
    },
    {
      "cell_type": "code",
      "source": [
        "transfer_all_class_between_folders('train', 'test', 0.20)"
      ],
      "metadata": {
        "id": "O3hQXBNIxF2x"
      },
      "execution_count": null,
      "outputs": []
    },
    {
      "cell_type": "code",
      "source": [
        "def prepare_name_with_labels(folder_name, dataset_type='train'):\n",
        "    \"\"\" Prepare the file names (X) and the class labels (Y) from folder location of images.\n",
        "\n",
        "        Args:\n",
        "            folder_name: str\n",
        "                Source folder's path\n",
        "\n",
        "    \"\"\"\n",
        "    source_files = os.listdir(os.path.join(dataset_folder_name, dataset_type, folder_name))\n",
        "    y_label = 0\n",
        "    for i in range(len(class_labels)):\n",
        "        if(folder_name == class_labels[i]):\n",
        "            y_label = i\n",
        "    for val in source_files:\n",
        "        X.append(val)\n",
        "        Y.append(y_label)"
      ],
      "metadata": {
        "id": "3qEvzonFxFz4"
      },
      "execution_count": null,
      "outputs": []
    },
    {
      "cell_type": "code",
      "source": [
        "# Organize file names and class labels in X and Y variables\n",
        "for i in range(len(class_labels)):\n",
        "    prepare_name_with_labels(class_labels[i])"
      ],
      "metadata": {
        "id": "3xbtAdgNxFw9"
      },
      "execution_count": null,
      "outputs": []
    },
    {
      "cell_type": "code",
      "source": [
        "\n",
        "\n",
        "X = np.asarray(X)\n",
        "Y = np.asarray(Y)\n",
        "\n"
      ],
      "metadata": {
        "id": "KTWVq7vNxFuF"
      },
      "execution_count": null,
      "outputs": []
    },
    {
      "cell_type": "code",
      "source": [
        "batch_size = 512\n",
        "epoch = 100 #اینجا رو از صد گذاشتم ده که زمان نگیره \n",
        "num_of_channels = 3\n",
        "number_of_class_labels = len(class_labels)"
      ],
      "metadata": {
        "id": "AHopGeAnxFrU"
      },
      "execution_count": null,
      "outputs": []
    },
    {
      "cell_type": "code",
      "source": [
        "\"\"\"\n",
        "    Note that, this model structure is a very basic one. \n",
        "    To achieve better performance, you should change the model structure and hyperparameters according to your needs and data. \n",
        "    So, optimize the structure of the model!\n",
        "\"\"\"\n",
        "\n",
        "def get_model():\n",
        "    activation_function = 'relu'\n",
        "\n",
        "    model = Sequential()\n",
        "    model.add(Conv2D(64, (3, 3), padding='same',\n",
        "                     activation=activation_function, input_shape=(img_rows, img_cols, num_of_channels)))\n",
        "    model.add(Conv2D(64, (3, 3), activation=activation_function))\n",
        "    model.add(MaxPooling2D(pool_size=(2, 2)))\n",
        "    model.add(Dropout(0.25))\n",
        "\n",
        "    model.add(Conv2D(32, (3, 3), padding='same',\n",
        "                     activation=activation_function))\n",
        "    model.add(Conv2D(32, (3, 3), activation=activation_function))\n",
        "    model.add(MaxPooling2D(pool_size=(2, 2)))\n",
        "    model.add(Dropout(0.25))\n",
        "\n",
        "    model.add(Conv2D(16, (3, 3), padding='same',\n",
        "                     activation=activation_function))\n",
        "    model.add(Conv2D(16, (3, 3), activation=activation_function))\n",
        "    model.add(MaxPooling2D(pool_size=(2, 2)))\n",
        "    model.add(Dropout(0.25))\n",
        "\n",
        "    model.add(Flatten())\n",
        "    model.add(Dense(64, activation=activation_function))\n",
        "    model.add(Dropout(0.1))\n",
        "    model.add(Dense(32, activation=activation_function))\n",
        "    model.add(Dropout(0.1))\n",
        "    model.add(Dense(16, activation=activation_function))\n",
        "    model.add(Dropout(0.1))\n",
        "    model.add(Dense(number_of_class_labels, activation='softmax'))\n",
        "\n",
        "    model.compile(optimizer='adam', loss='categorical_crossentropy',\n",
        "                  metrics=['accuracy'])\n",
        "\n",
        "    return model\n",
        "\n",
        "\n",
        "model = get_model()"
      ],
      "metadata": {
        "id": "pj5xE-VdxFoa"
      },
      "execution_count": null,
      "outputs": []
    },
    {
      "cell_type": "code",
      "source": [
        "#Stratified K-Fold Cross validation"
      ],
      "metadata": {
        "id": "fT7Q9KHMynAK"
      },
      "execution_count": null,
      "outputs": []
    },
    {
      "cell_type": "code",
      "source": [
        "# ===============Stratified K-Fold======================\n",
        "skf = StratifiedKFold(n_splits=3, shuffle=True)\n",
        "skf.get_n_splits(X, Y)\n",
        "fold_num = 0\n",
        "for train_index, val_index in skf.split(X, Y):\n",
        "    # First cut all images from validation to train (if any exists)\n",
        "    transfer_all_class_between_folders('validation', 'train', 1.0)\n",
        "    fold_num += 1\n",
        "    print(\"Results for fold\", fold_num)\n",
        "    X_train, X_val = X[train_index], X[val_index]\n",
        "    Y_train, Y_val = Y[train_index], Y[val_index]\n",
        "    # Move validation images of this fold from train folder to the validation folder\n",
        "    for each_index in range(len(X_val)):\n",
        "        class_label = ''\n",
        "        for i in range(len(class_labels)):\n",
        "            if(Y_val[each_index] == i):\n",
        "                class_label = class_labels[i]\n",
        "        # Then, copy the validation images to the validation folder\n",
        "        shutil.move(os.path.join(dataset_folder_name, 'train', class_label, X_val[each_index]),\n",
        "                    os.path.join(dataset_folder_name, 'validation', class_label, X_val[each_index]))\n",
        "\n",
        "    train_datagen = ImageDataGenerator(\n",
        "        rescale=1./255,\n",
        "        zoom_range=0.20,\n",
        "        fill_mode=\"nearest\")\n",
        "    validation_datagen = ImageDataGenerator(rescale=1./255)\n",
        "    test_datagen = ImageDataGenerator(rescale=1./255)\n",
        "\n",
        "    # Start ImageClassification Model\n",
        "    train_generator = train_datagen.flow_from_directory(\n",
        "        train_path,\n",
        "        target_size=(img_rows, img_cols),\n",
        "        batch_size=batch_size,\n",
        "        class_mode='categorical',\n",
        "        subset='training')\n",
        "\n",
        "    validation_generator = validation_datagen.flow_from_directory(\n",
        "        validation_path,\n",
        "        target_size=(img_rows, img_cols),\n",
        "        batch_size=batch_size,\n",
        "        class_mode=None,  # only data, no labels\n",
        "        shuffle=False)\n",
        "    \n",
        "    # fit model\n",
        "    history = model.fit(train_generator,\n",
        "                        epochs=epoch)\n",
        "\n",
        "    predictions = model.predict(validation_generator, verbose=1)\n",
        "    y_predictions = np.argmax(predictions, axis=1)\n",
        "    true_classes = validation_generator.classes\n",
        "    \n",
        "    # evaluate validation performance\n",
        "    print(\"***Performance on Validation data***\")\n",
        "    val_acc, val_prec, val_fScore = my_metrics(true_classes, y_predictions)"
      ],
      "metadata": {
        "colab": {
          "base_uri": "https://localhost:8080/"
        },
        "id": "nNETGAHGyTtP",
        "outputId": "8878a6a0-ca68-4414-e457-2897f66db826"
      },
      "execution_count": null,
      "outputs": [
        {
          "output_type": "stream",
          "name": "stdout",
          "text": [
            "Results for fold 1\n",
            "Found 62 images belonging to 2 classes.\n",
            "Found 32 images belonging to 3 classes.\n",
            "Epoch 1/100\n",
            "1/1 [==============================] - 10s 10s/step - loss: 0.6921 - accuracy: 0.4839\n",
            "Epoch 2/100\n",
            "1/1 [==============================] - 8s 8s/step - loss: 0.6985 - accuracy: 0.5484\n",
            "Epoch 3/100\n",
            "1/1 [==============================] - 9s 9s/step - loss: 0.6937 - accuracy: 0.5484\n",
            "Epoch 4/100\n",
            "1/1 [==============================] - 8s 8s/step - loss: 0.6864 - accuracy: 0.5323\n",
            "Epoch 5/100\n",
            "1/1 [==============================] - 8s 8s/step - loss: 0.7017 - accuracy: 0.5161\n",
            "Epoch 6/100\n",
            "1/1 [==============================] - 8s 8s/step - loss: 0.7056 - accuracy: 0.4839\n",
            "Epoch 7/100\n",
            "1/1 [==============================] - 11s 11s/step - loss: 0.6956 - accuracy: 0.5323\n",
            "Epoch 8/100\n",
            "1/1 [==============================] - 8s 8s/step - loss: 0.6864 - accuracy: 0.5000\n",
            "Epoch 9/100\n",
            "1/1 [==============================] - 8s 8s/step - loss: 0.7057 - accuracy: 0.4516\n",
            "Epoch 10/100\n",
            "1/1 [==============================] - 8s 8s/step - loss: 0.6858 - accuracy: 0.5323\n",
            "Epoch 11/100\n",
            "1/1 [==============================] - 8s 8s/step - loss: 0.6876 - accuracy: 0.5806\n",
            "Epoch 12/100\n",
            "1/1 [==============================] - 8s 8s/step - loss: 0.6845 - accuracy: 0.5484\n",
            "Epoch 13/100\n",
            "1/1 [==============================] - 8s 8s/step - loss: 0.6879 - accuracy: 0.5323\n",
            "Epoch 14/100\n",
            "1/1 [==============================] - 8s 8s/step - loss: 0.6864 - accuracy: 0.5323\n",
            "Epoch 15/100\n",
            "1/1 [==============================] - 8s 8s/step - loss: 0.6931 - accuracy: 0.4839\n",
            "Epoch 16/100\n",
            "1/1 [==============================] - 8s 8s/step - loss: 0.6870 - accuracy: 0.5806\n",
            "Epoch 17/100\n",
            "1/1 [==============================] - 8s 8s/step - loss: 0.6783 - accuracy: 0.5484\n",
            "Epoch 18/100\n",
            "1/1 [==============================] - 8s 8s/step - loss: 0.6933 - accuracy: 0.5968\n",
            "Epoch 19/100\n",
            "1/1 [==============================] - 8s 8s/step - loss: 0.6802 - accuracy: 0.5323\n",
            "Epoch 20/100\n",
            "1/1 [==============================] - 8s 8s/step - loss: 0.6586 - accuracy: 0.5645\n",
            "Epoch 21/100\n",
            "1/1 [==============================] - 8s 8s/step - loss: 0.6594 - accuracy: 0.6129\n",
            "Epoch 22/100\n",
            "1/1 [==============================] - 11s 11s/step - loss: 0.6694 - accuracy: 0.5484\n",
            "Epoch 23/100\n",
            "1/1 [==============================] - 8s 8s/step - loss: 0.6424 - accuracy: 0.6774\n",
            "Epoch 24/100\n",
            "1/1 [==============================] - 8s 8s/step - loss: 0.7086 - accuracy: 0.4677\n",
            "Epoch 25/100\n",
            "1/1 [==============================] - 8s 8s/step - loss: 0.6890 - accuracy: 0.5161\n",
            "Epoch 26/100\n",
            "1/1 [==============================] - 8s 8s/step - loss: 0.6590 - accuracy: 0.6452\n",
            "Epoch 27/100\n",
            "1/1 [==============================] - 8s 8s/step - loss: 0.6987 - accuracy: 0.5000\n",
            "Epoch 28/100\n",
            "1/1 [==============================] - 11s 11s/step - loss: 0.6505 - accuracy: 0.6129\n",
            "Epoch 29/100\n",
            "1/1 [==============================] - 8s 8s/step - loss: 0.5991 - accuracy: 0.8226\n",
            "Epoch 30/100\n",
            "1/1 [==============================] - 8s 8s/step - loss: 0.6291 - accuracy: 0.6613\n",
            "Epoch 31/100\n",
            "1/1 [==============================] - 8s 8s/step - loss: 0.6263 - accuracy: 0.6935\n",
            "Epoch 32/100\n",
            "1/1 [==============================] - 8s 8s/step - loss: 0.6028 - accuracy: 0.6129\n",
            "Epoch 33/100\n",
            "1/1 [==============================] - 8s 8s/step - loss: 0.5749 - accuracy: 0.7581\n",
            "Epoch 34/100\n",
            "1/1 [==============================] - 8s 8s/step - loss: 0.5323 - accuracy: 0.7581\n",
            "Epoch 35/100\n",
            "1/1 [==============================] - 8s 8s/step - loss: 0.5549 - accuracy: 0.6935\n",
            "Epoch 36/100\n",
            "1/1 [==============================] - 8s 8s/step - loss: 0.5506 - accuracy: 0.6935\n",
            "Epoch 37/100\n",
            "1/1 [==============================] - 8s 8s/step - loss: 0.6568 - accuracy: 0.6613\n",
            "Epoch 38/100\n",
            "1/1 [==============================] - 8s 8s/step - loss: 0.5364 - accuracy: 0.7419\n",
            "Epoch 39/100\n",
            "1/1 [==============================] - 8s 8s/step - loss: 0.5625 - accuracy: 0.6774\n",
            "Epoch 40/100\n",
            "1/1 [==============================] - 8s 8s/step - loss: 0.4891 - accuracy: 0.7581\n",
            "Epoch 41/100\n",
            "1/1 [==============================] - 8s 8s/step - loss: 0.5947 - accuracy: 0.6613\n",
            "Epoch 42/100\n",
            "1/1 [==============================] - 8s 8s/step - loss: 0.5648 - accuracy: 0.7097\n",
            "Epoch 43/100\n",
            "1/1 [==============================] - 9s 9s/step - loss: 0.5131 - accuracy: 0.7581\n",
            "Epoch 44/100\n",
            "1/1 [==============================] - 8s 8s/step - loss: 0.5062 - accuracy: 0.7742\n",
            "Epoch 45/100\n",
            "1/1 [==============================] - 8s 8s/step - loss: 0.5336 - accuracy: 0.7742\n",
            "Epoch 46/100\n",
            "1/1 [==============================] - 8s 8s/step - loss: 0.4994 - accuracy: 0.7097\n",
            "Epoch 47/100\n",
            "1/1 [==============================] - 8s 8s/step - loss: 0.4489 - accuracy: 0.7581\n",
            "Epoch 48/100\n",
            "1/1 [==============================] - 8s 8s/step - loss: 0.4893 - accuracy: 0.7258\n",
            "Epoch 49/100\n",
            "1/1 [==============================] - 9s 9s/step - loss: 0.5108 - accuracy: 0.7903\n",
            "Epoch 50/100\n",
            "1/1 [==============================] - 8s 8s/step - loss: 0.4323 - accuracy: 0.8226\n",
            "Epoch 51/100\n",
            "1/1 [==============================] - 8s 8s/step - loss: 0.4332 - accuracy: 0.8226\n",
            "Epoch 52/100\n",
            "1/1 [==============================] - 8s 8s/step - loss: 0.5626 - accuracy: 0.7097\n",
            "Epoch 53/100\n",
            "1/1 [==============================] - 8s 8s/step - loss: 0.3893 - accuracy: 0.8387\n",
            "Epoch 54/100\n",
            "1/1 [==============================] - 8s 8s/step - loss: 0.4774 - accuracy: 0.7903\n",
            "Epoch 55/100\n",
            "1/1 [==============================] - 8s 8s/step - loss: 0.4210 - accuracy: 0.8226\n",
            "Epoch 56/100\n",
            "1/1 [==============================] - 8s 8s/step - loss: 0.4402 - accuracy: 0.7903\n",
            "Epoch 57/100\n",
            "1/1 [==============================] - 8s 8s/step - loss: 0.5960 - accuracy: 0.7419\n",
            "Epoch 58/100\n",
            "1/1 [==============================] - 8s 8s/step - loss: 0.4136 - accuracy: 0.8871\n",
            "Epoch 59/100\n",
            "1/1 [==============================] - 8s 8s/step - loss: 0.4641 - accuracy: 0.7742\n",
            "Epoch 60/100\n",
            "1/1 [==============================] - 8s 8s/step - loss: 0.4320 - accuracy: 0.7742\n",
            "Epoch 61/100\n",
            "1/1 [==============================] - 8s 8s/step - loss: 0.4128 - accuracy: 0.8226\n",
            "Epoch 62/100\n",
            "1/1 [==============================] - 8s 8s/step - loss: 0.4725 - accuracy: 0.7419\n",
            "Epoch 63/100\n",
            "1/1 [==============================] - 8s 8s/step - loss: 0.5874 - accuracy: 0.7258\n",
            "Epoch 64/100\n",
            "1/1 [==============================] - 8s 8s/step - loss: 0.4078 - accuracy: 0.8387\n",
            "Epoch 65/100\n",
            "1/1 [==============================] - 10s 10s/step - loss: 0.4502 - accuracy: 0.8226\n",
            "Epoch 66/100\n",
            "1/1 [==============================] - 8s 8s/step - loss: 0.4454 - accuracy: 0.7903\n",
            "Epoch 67/100\n",
            "1/1 [==============================] - 8s 8s/step - loss: 0.4159 - accuracy: 0.7742\n",
            "Epoch 68/100\n",
            "1/1 [==============================] - 8s 8s/step - loss: 0.4518 - accuracy: 0.7903\n",
            "Epoch 69/100\n",
            "1/1 [==============================] - 8s 8s/step - loss: 0.3996 - accuracy: 0.8387\n",
            "Epoch 70/100\n",
            "1/1 [==============================] - 8s 8s/step - loss: 0.4275 - accuracy: 0.8065\n",
            "Epoch 71/100\n",
            "1/1 [==============================] - 9s 9s/step - loss: 0.4054 - accuracy: 0.8065\n",
            "Epoch 72/100\n",
            "1/1 [==============================] - 8s 8s/step - loss: 0.4251 - accuracy: 0.7742\n",
            "Epoch 73/100\n",
            "1/1 [==============================] - 8s 8s/step - loss: 0.3915 - accuracy: 0.8065\n",
            "Epoch 74/100\n",
            "1/1 [==============================] - 8s 8s/step - loss: 0.4459 - accuracy: 0.7742\n",
            "Epoch 75/100\n",
            "1/1 [==============================] - 8s 8s/step - loss: 0.4141 - accuracy: 0.8387\n",
            "Epoch 76/100\n",
            "1/1 [==============================] - 8s 8s/step - loss: 0.4303 - accuracy: 0.7903\n",
            "Epoch 77/100\n",
            "1/1 [==============================] - 8s 8s/step - loss: 0.3121 - accuracy: 0.9032\n",
            "Epoch 78/100\n",
            "1/1 [==============================] - 8s 8s/step - loss: 0.2806 - accuracy: 0.9194\n",
            "Epoch 79/100\n",
            "1/1 [==============================] - 8s 8s/step - loss: 0.3315 - accuracy: 0.9032\n",
            "Epoch 80/100\n",
            "1/1 [==============================] - 8s 8s/step - loss: 0.2794 - accuracy: 0.8548\n",
            "Epoch 81/100\n",
            "1/1 [==============================] - 9s 9s/step - loss: 0.2874 - accuracy: 0.8871\n",
            "Epoch 82/100\n",
            "1/1 [==============================] - 9s 9s/step - loss: 0.3373 - accuracy: 0.8387\n",
            "Epoch 83/100\n",
            "1/1 [==============================] - 9s 9s/step - loss: 0.2896 - accuracy: 0.9194\n",
            "Epoch 84/100\n",
            "1/1 [==============================] - 9s 9s/step - loss: 0.3944 - accuracy: 0.7419\n",
            "Epoch 85/100\n",
            "1/1 [==============================] - 8s 8s/step - loss: 0.3103 - accuracy: 0.8710\n",
            "Epoch 86/100\n",
            "1/1 [==============================] - 9s 9s/step - loss: 0.3280 - accuracy: 0.8710\n",
            "Epoch 87/100\n",
            "1/1 [==============================] - 9s 9s/step - loss: 0.3559 - accuracy: 0.8710\n",
            "Epoch 88/100\n",
            "1/1 [==============================] - 8s 8s/step - loss: 0.3054 - accuracy: 0.8548\n",
            "Epoch 89/100\n",
            "1/1 [==============================] - 8s 8s/step - loss: 0.4360 - accuracy: 0.8548\n",
            "Epoch 90/100\n",
            "1/1 [==============================] - 8s 8s/step - loss: 0.2464 - accuracy: 0.8871\n",
            "Epoch 91/100\n",
            "1/1 [==============================] - 8s 8s/step - loss: 0.3398 - accuracy: 0.8548\n",
            "Epoch 92/100\n",
            "1/1 [==============================] - 9s 9s/step - loss: 0.3620 - accuracy: 0.8065\n",
            "Epoch 93/100\n",
            "1/1 [==============================] - 9s 9s/step - loss: 0.3100 - accuracy: 0.8710\n",
            "Epoch 94/100\n",
            "1/1 [==============================] - 8s 8s/step - loss: 0.3393 - accuracy: 0.8548\n",
            "Epoch 95/100\n",
            "1/1 [==============================] - 8s 8s/step - loss: 0.3181 - accuracy: 0.8871\n",
            "Epoch 96/100\n",
            "1/1 [==============================] - 8s 8s/step - loss: 0.3365 - accuracy: 0.8548\n",
            "Epoch 97/100\n",
            "1/1 [==============================] - 8s 8s/step - loss: 0.3188 - accuracy: 0.8548\n",
            "Epoch 98/100\n",
            "1/1 [==============================] - 8s 8s/step - loss: 0.2740 - accuracy: 0.8871\n",
            "Epoch 99/100\n",
            "1/1 [==============================] - 8s 8s/step - loss: 0.2936 - accuracy: 0.8710\n",
            "Epoch 100/100\n",
            "1/1 [==============================] - 8s 8s/step - loss: 0.2963 - accuracy: 0.8548\n",
            "1/1 [==============================] - 2s 2s/step\n",
            "***Performance on Validation data***\n",
            "Accuracy  : 0.25\n",
            "Precision : 0.18181818181818182\n",
            "f1Score : 0.2105263157894737\n",
            "[[ 0  0  0]\n",
            " [ 8  8  0]\n",
            " [ 2 14  0]]\n",
            "Results for fold 2\n",
            "Found 63 images belonging to 2 classes.\n"
          ]
        },
        {
          "output_type": "stream",
          "name": "stderr",
          "text": [
            "/usr/local/lib/python3.8/dist-packages/sklearn/metrics/_classification.py:1318: UndefinedMetricWarning: Precision is ill-defined and being set to 0.0 in labels with no predicted samples. Use `zero_division` parameter to control this behavior.\n",
            "  _warn_prf(average, modifier, msg_start, len(result))\n"
          ]
        },
        {
          "output_type": "stream",
          "name": "stdout",
          "text": [
            "Found 31 images belonging to 3 classes.\n",
            "Epoch 1/100\n",
            "1/1 [==============================] - 8s 8s/step - loss: 0.5616 - accuracy: 0.7619\n",
            "Epoch 2/100\n",
            "1/1 [==============================] - 8s 8s/step - loss: 0.4981 - accuracy: 0.8095\n",
            "Epoch 3/100\n",
            "1/1 [==============================] - 8s 8s/step - loss: 0.6409 - accuracy: 0.7619\n",
            "Epoch 4/100\n",
            "1/1 [==============================] - 8s 8s/step - loss: 0.5410 - accuracy: 0.7937\n",
            "Epoch 5/100\n",
            "1/1 [==============================] - 8s 8s/step - loss: 0.5188 - accuracy: 0.7619\n",
            "Epoch 6/100\n",
            "1/1 [==============================] - 8s 8s/step - loss: 0.5974 - accuracy: 0.7143\n",
            "Epoch 7/100\n",
            "1/1 [==============================] - 8s 8s/step - loss: 0.4689 - accuracy: 0.7937\n",
            "Epoch 8/100\n",
            "1/1 [==============================] - 10s 10s/step - loss: 0.4710 - accuracy: 0.8095\n",
            "Epoch 9/100\n",
            "1/1 [==============================] - 8s 8s/step - loss: 0.4918 - accuracy: 0.7619\n",
            "Epoch 10/100\n",
            "1/1 [==============================] - 8s 8s/step - loss: 0.4937 - accuracy: 0.7302\n",
            "Epoch 11/100\n",
            "1/1 [==============================] - 8s 8s/step - loss: 0.4828 - accuracy: 0.7460\n",
            "Epoch 12/100\n",
            "1/1 [==============================] - 8s 8s/step - loss: 0.4953 - accuracy: 0.7460\n",
            "Epoch 13/100\n",
            "1/1 [==============================] - 8s 8s/step - loss: 0.4927 - accuracy: 0.7778\n",
            "Epoch 14/100\n",
            "1/1 [==============================] - 11s 11s/step - loss: 0.4701 - accuracy: 0.8095\n",
            "Epoch 15/100\n",
            "1/1 [==============================] - 8s 8s/step - loss: 0.4909 - accuracy: 0.7302\n",
            "Epoch 16/100\n",
            "1/1 [==============================] - 8s 8s/step - loss: 0.4867 - accuracy: 0.7619\n",
            "Epoch 17/100\n",
            "1/1 [==============================] - 8s 8s/step - loss: 0.4408 - accuracy: 0.7937\n",
            "Epoch 18/100\n",
            "1/1 [==============================] - 8s 8s/step - loss: 0.4840 - accuracy: 0.7778\n",
            "Epoch 19/100\n",
            "1/1 [==============================] - 8s 8s/step - loss: 0.4453 - accuracy: 0.7778\n",
            "Epoch 20/100\n",
            "1/1 [==============================] - 8s 8s/step - loss: 0.3934 - accuracy: 0.8095\n",
            "Epoch 21/100\n",
            "1/1 [==============================] - 8s 8s/step - loss: 0.4367 - accuracy: 0.7778\n",
            "Epoch 22/100\n",
            "1/1 [==============================] - 8s 8s/step - loss: 0.4319 - accuracy: 0.7937\n",
            "Epoch 23/100\n",
            "1/1 [==============================] - 8s 8s/step - loss: 0.4616 - accuracy: 0.7937\n",
            "Epoch 24/100\n",
            "1/1 [==============================] - 8s 8s/step - loss: 0.4702 - accuracy: 0.7619\n",
            "Epoch 25/100\n",
            "1/1 [==============================] - 8s 8s/step - loss: 0.4325 - accuracy: 0.7778\n",
            "Epoch 26/100\n",
            "1/1 [==============================] - 8s 8s/step - loss: 0.4231 - accuracy: 0.8254\n",
            "Epoch 27/100\n",
            "1/1 [==============================] - 8s 8s/step - loss: 0.4567 - accuracy: 0.7937\n",
            "Epoch 28/100\n",
            "1/1 [==============================] - 8s 8s/step - loss: 0.3606 - accuracy: 0.8254\n",
            "Epoch 29/100\n",
            "1/1 [==============================] - 9s 9s/step - loss: 0.3872 - accuracy: 0.8095\n",
            "Epoch 30/100\n",
            "1/1 [==============================] - 9s 9s/step - loss: 0.4482 - accuracy: 0.7778\n",
            "Epoch 31/100\n",
            "1/1 [==============================] - 8s 8s/step - loss: 0.3860 - accuracy: 0.7937\n",
            "Epoch 32/100\n",
            "1/1 [==============================] - 8s 8s/step - loss: 0.4027 - accuracy: 0.7937\n",
            "Epoch 33/100\n",
            "1/1 [==============================] - 8s 8s/step - loss: 0.4493 - accuracy: 0.7778\n",
            "Epoch 34/100\n",
            "1/1 [==============================] - 8s 8s/step - loss: 0.4217 - accuracy: 0.7937\n",
            "Epoch 35/100\n",
            "1/1 [==============================] - 8s 8s/step - loss: 0.3858 - accuracy: 0.7937\n",
            "Epoch 36/100\n",
            "1/1 [==============================] - 10s 10s/step - loss: 0.3801 - accuracy: 0.7937\n",
            "Epoch 37/100\n",
            "1/1 [==============================] - 8s 8s/step - loss: 0.3894 - accuracy: 0.8095\n",
            "Epoch 38/100\n",
            "1/1 [==============================] - 8s 8s/step - loss: 0.3756 - accuracy: 0.8413\n",
            "Epoch 39/100\n",
            "1/1 [==============================] - 8s 8s/step - loss: 0.3775 - accuracy: 0.8095\n",
            "Epoch 40/100\n",
            "1/1 [==============================] - 8s 8s/step - loss: 0.3302 - accuracy: 0.8413\n",
            "Epoch 41/100\n",
            "1/1 [==============================] - 8s 8s/step - loss: 0.3623 - accuracy: 0.8254\n",
            "Epoch 42/100\n",
            "1/1 [==============================] - 8s 8s/step - loss: 0.3003 - accuracy: 0.8571\n",
            "Epoch 43/100\n",
            "1/1 [==============================] - 8s 8s/step - loss: 0.3581 - accuracy: 0.7778\n",
            "Epoch 44/100\n",
            "1/1 [==============================] - 8s 8s/step - loss: 0.3799 - accuracy: 0.8254\n",
            "Epoch 45/100\n",
            "1/1 [==============================] - 8s 8s/step - loss: 0.3833 - accuracy: 0.8095\n",
            "Epoch 46/100\n",
            "1/1 [==============================] - 8s 8s/step - loss: 0.3420 - accuracy: 0.8254\n",
            "Epoch 47/100\n",
            "1/1 [==============================] - 8s 8s/step - loss: 0.3640 - accuracy: 0.8095\n",
            "Epoch 48/100\n",
            "1/1 [==============================] - 8s 8s/step - loss: 0.3119 - accuracy: 0.8571\n",
            "Epoch 49/100\n",
            "1/1 [==============================] - 8s 8s/step - loss: 0.3448 - accuracy: 0.8254\n",
            "Epoch 50/100\n",
            "1/1 [==============================] - 8s 8s/step - loss: 0.3797 - accuracy: 0.8254\n",
            "Epoch 51/100\n",
            "1/1 [==============================] - 8s 8s/step - loss: 0.3430 - accuracy: 0.7778\n",
            "Epoch 52/100\n",
            "1/1 [==============================] - 10s 10s/step - loss: 0.3658 - accuracy: 0.8095\n",
            "Epoch 53/100\n",
            "1/1 [==============================] - 8s 8s/step - loss: 0.3523 - accuracy: 0.8095\n",
            "Epoch 54/100\n",
            "1/1 [==============================] - 8s 8s/step - loss: 0.3196 - accuracy: 0.8571\n",
            "Epoch 55/100\n",
            "1/1 [==============================] - 8s 8s/step - loss: 0.3244 - accuracy: 0.8413\n",
            "Epoch 56/100\n",
            "1/1 [==============================] - 8s 8s/step - loss: 0.3711 - accuracy: 0.7937\n",
            "Epoch 57/100\n",
            "1/1 [==============================] - 8s 8s/step - loss: 0.2853 - accuracy: 0.8413\n",
            "Epoch 58/100\n",
            "1/1 [==============================] - 9s 9s/step - loss: 0.3224 - accuracy: 0.8571\n",
            "Epoch 59/100\n",
            "1/1 [==============================] - 8s 8s/step - loss: 0.3180 - accuracy: 0.8254\n",
            "Epoch 60/100\n",
            "1/1 [==============================] - 8s 8s/step - loss: 0.3369 - accuracy: 0.8095\n",
            "Epoch 61/100\n",
            "1/1 [==============================] - 8s 8s/step - loss: 0.3018 - accuracy: 0.8254\n",
            "Epoch 62/100\n",
            "1/1 [==============================] - 8s 8s/step - loss: 0.3207 - accuracy: 0.8413\n",
            "Epoch 63/100\n",
            "1/1 [==============================] - 8s 8s/step - loss: 0.2857 - accuracy: 0.8571\n",
            "Epoch 64/100\n",
            "1/1 [==============================] - 8s 8s/step - loss: 0.3344 - accuracy: 0.8254\n",
            "Epoch 65/100\n",
            "1/1 [==============================] - 8s 8s/step - loss: 0.3648 - accuracy: 0.8095\n",
            "Epoch 66/100\n",
            "1/1 [==============================] - 8s 8s/step - loss: 0.3762 - accuracy: 0.7937\n",
            "Epoch 67/100\n",
            "1/1 [==============================] - 8s 8s/step - loss: 0.3258 - accuracy: 0.8254\n",
            "Epoch 68/100\n",
            "1/1 [==============================] - 8s 8s/step - loss: 0.3050 - accuracy: 0.8571\n",
            "Epoch 69/100\n",
            "1/1 [==============================] - 8s 8s/step - loss: 0.3059 - accuracy: 0.8254\n",
            "Epoch 70/100\n",
            "1/1 [==============================] - 8s 8s/step - loss: 0.3209 - accuracy: 0.7778\n",
            "Epoch 71/100\n",
            "1/1 [==============================] - 8s 8s/step - loss: 0.3353 - accuracy: 0.8413\n",
            "Epoch 72/100\n",
            "1/1 [==============================] - 8s 8s/step - loss: 0.3023 - accuracy: 0.8413\n",
            "Epoch 73/100\n",
            "1/1 [==============================] - 8s 8s/step - loss: 0.2589 - accuracy: 0.8889\n",
            "Epoch 74/100\n",
            "1/1 [==============================] - 9s 9s/step - loss: 0.2971 - accuracy: 0.9048\n",
            "Epoch 75/100\n",
            "1/1 [==============================] - 8s 8s/step - loss: 0.2809 - accuracy: 0.8571\n",
            "Epoch 76/100\n",
            "1/1 [==============================] - 8s 8s/step - loss: 0.3260 - accuracy: 0.8254\n",
            "Epoch 77/100\n",
            "1/1 [==============================] - 8s 8s/step - loss: 0.2596 - accuracy: 0.8889\n",
            "Epoch 78/100\n",
            "1/1 [==============================] - 8s 8s/step - loss: 0.2692 - accuracy: 0.8571\n",
            "Epoch 79/100\n",
            "1/1 [==============================] - 8s 8s/step - loss: 0.2770 - accuracy: 0.8730\n",
            "Epoch 80/100\n",
            "1/1 [==============================] - 11s 11s/step - loss: 0.2628 - accuracy: 0.8730\n",
            "Epoch 81/100\n",
            "1/1 [==============================] - 8s 8s/step - loss: 0.3462 - accuracy: 0.8095\n",
            "Epoch 82/100\n",
            "1/1 [==============================] - 8s 8s/step - loss: 0.2817 - accuracy: 0.8413\n",
            "Epoch 83/100\n",
            "1/1 [==============================] - 8s 8s/step - loss: 0.2475 - accuracy: 0.8571\n",
            "Epoch 84/100\n",
            "1/1 [==============================] - 8s 8s/step - loss: 0.2899 - accuracy: 0.8730\n",
            "Epoch 85/100\n",
            "1/1 [==============================] - 8s 8s/step - loss: 0.2397 - accuracy: 0.8730\n",
            "Epoch 86/100\n",
            "1/1 [==============================] - 8s 8s/step - loss: 0.4010 - accuracy: 0.8254\n",
            "Epoch 87/100\n",
            "1/1 [==============================] - 8s 8s/step - loss: 0.3493 - accuracy: 0.8413\n",
            "Epoch 88/100\n",
            "1/1 [==============================] - 8s 8s/step - loss: 0.2941 - accuracy: 0.8413\n",
            "Epoch 89/100\n",
            "1/1 [==============================] - 8s 8s/step - loss: 0.3003 - accuracy: 0.8571\n",
            "Epoch 90/100\n",
            "1/1 [==============================] - 8s 8s/step - loss: 0.3126 - accuracy: 0.8730\n",
            "Epoch 91/100\n",
            "1/1 [==============================] - 8s 8s/step - loss: 0.2952 - accuracy: 0.8413\n",
            "Epoch 92/100\n",
            "1/1 [==============================] - 8s 8s/step - loss: 0.2521 - accuracy: 0.8889\n",
            "Epoch 93/100\n",
            "1/1 [==============================] - 8s 8s/step - loss: 0.2637 - accuracy: 0.8730\n",
            "Epoch 94/100\n",
            "1/1 [==============================] - 8s 8s/step - loss: 0.2412 - accuracy: 0.8730\n",
            "Epoch 95/100\n",
            "1/1 [==============================] - 10s 10s/step - loss: 0.2549 - accuracy: 0.8571\n",
            "Epoch 96/100\n",
            "1/1 [==============================] - 8s 8s/step - loss: 0.2660 - accuracy: 0.8571\n",
            "Epoch 97/100\n",
            "1/1 [==============================] - 8s 8s/step - loss: 0.2970 - accuracy: 0.8571\n",
            "Epoch 98/100\n",
            "1/1 [==============================] - 8s 8s/step - loss: 0.2624 - accuracy: 0.8571\n",
            "Epoch 99/100\n",
            "1/1 [==============================] - 8s 8s/step - loss: 0.2385 - accuracy: 0.9048\n",
            "Epoch 100/100\n",
            "1/1 [==============================] - 8s 8s/step - loss: 0.2803 - accuracy: 0.8730\n",
            "1/1 [==============================] - 2s 2s/step\n",
            "***Performance on Validation data***\n",
            "Accuracy  : 0.0967741935483871\n",
            "Precision : 0.1032258064516129\n",
            "f1Score : 0.09989594172736734\n",
            "[[ 0  0  0]\n",
            " [13  3  0]\n",
            " [ 3 12  0]]\n",
            "Results for fold 3\n",
            "Found 63 images belonging to 2 classes.\n",
            "Found 31 images belonging to 3 classes.\n"
          ]
        },
        {
          "output_type": "stream",
          "name": "stderr",
          "text": [
            "/usr/local/lib/python3.8/dist-packages/sklearn/metrics/_classification.py:1318: UndefinedMetricWarning: Precision is ill-defined and being set to 0.0 in labels with no predicted samples. Use `zero_division` parameter to control this behavior.\n",
            "  _warn_prf(average, modifier, msg_start, len(result))\n"
          ]
        },
        {
          "output_type": "stream",
          "name": "stdout",
          "text": [
            "Epoch 1/100\n",
            "1/1 [==============================] - 9s 9s/step - loss: 0.4515 - accuracy: 0.8254\n",
            "Epoch 2/100\n",
            "1/1 [==============================] - 8s 8s/step - loss: 0.3354 - accuracy: 0.8413\n",
            "Epoch 3/100\n",
            "1/1 [==============================] - 8s 8s/step - loss: 0.3613 - accuracy: 0.8095\n",
            "Epoch 4/100\n",
            "1/1 [==============================] - 8s 8s/step - loss: 0.3259 - accuracy: 0.8413\n",
            "Epoch 5/100\n",
            "1/1 [==============================] - 8s 8s/step - loss: 0.3343 - accuracy: 0.8254\n",
            "Epoch 6/100\n",
            "1/1 [==============================] - 8s 8s/step - loss: 0.3979 - accuracy: 0.7460\n",
            "Epoch 7/100\n",
            "1/1 [==============================] - 8s 8s/step - loss: 0.2864 - accuracy: 0.8254\n",
            "Epoch 8/100\n",
            "1/1 [==============================] - 8s 8s/step - loss: 0.2921 - accuracy: 0.8730\n",
            "Epoch 9/100\n",
            "1/1 [==============================] - 8s 8s/step - loss: 0.3631 - accuracy: 0.8571\n",
            "Epoch 10/100\n",
            "1/1 [==============================] - 8s 8s/step - loss: 0.3650 - accuracy: 0.8254\n",
            "Epoch 11/100\n",
            "1/1 [==============================] - 8s 8s/step - loss: 0.2727 - accuracy: 0.8730\n",
            "Epoch 12/100\n",
            "1/1 [==============================] - 8s 8s/step - loss: 0.2439 - accuracy: 0.8571\n",
            "Epoch 13/100\n",
            "1/1 [==============================] - 8s 8s/step - loss: 0.3214 - accuracy: 0.8413\n",
            "Epoch 14/100\n",
            "1/1 [==============================] - 8s 8s/step - loss: 0.2680 - accuracy: 0.8889\n",
            "Epoch 15/100\n",
            "1/1 [==============================] - 8s 8s/step - loss: 0.2688 - accuracy: 0.8571\n",
            "Epoch 16/100\n",
            "1/1 [==============================] - 8s 8s/step - loss: 0.3285 - accuracy: 0.8413\n",
            "Epoch 17/100\n",
            "1/1 [==============================] - 8s 8s/step - loss: 0.3762 - accuracy: 0.8095\n",
            "Epoch 18/100\n",
            "1/1 [==============================] - 9s 9s/step - loss: 0.3094 - accuracy: 0.8254\n",
            "Epoch 19/100\n",
            "1/1 [==============================] - 8s 8s/step - loss: 0.3088 - accuracy: 0.9048\n",
            "Epoch 20/100\n",
            "1/1 [==============================] - 8s 8s/step - loss: 0.3725 - accuracy: 0.8413\n",
            "Epoch 21/100\n",
            "1/1 [==============================] - 8s 8s/step - loss: 0.3115 - accuracy: 0.8413\n",
            "Epoch 22/100\n",
            "1/1 [==============================] - 8s 8s/step - loss: 0.3405 - accuracy: 0.8254\n",
            "Epoch 23/100\n",
            "1/1 [==============================] - 9s 9s/step - loss: 0.3704 - accuracy: 0.8095\n",
            "Epoch 24/100\n",
            "1/1 [==============================] - 9s 9s/step - loss: 0.3623 - accuracy: 0.7937\n",
            "Epoch 25/100\n",
            "1/1 [==============================] - 8s 8s/step - loss: 0.3415 - accuracy: 0.8254\n",
            "Epoch 26/100\n",
            "1/1 [==============================] - 8s 8s/step - loss: 0.3069 - accuracy: 0.8254\n",
            "Epoch 27/100\n",
            "1/1 [==============================] - 8s 8s/step - loss: 0.3649 - accuracy: 0.8095\n",
            "Epoch 28/100\n",
            "1/1 [==============================] - 8s 8s/step - loss: 0.2870 - accuracy: 0.8571\n",
            "Epoch 29/100\n",
            "1/1 [==============================] - 8s 8s/step - loss: 0.2643 - accuracy: 0.8730\n",
            "Epoch 30/100\n",
            "1/1 [==============================] - 8s 8s/step - loss: 0.3089 - accuracy: 0.8413\n",
            "Epoch 31/100\n",
            "1/1 [==============================] - 8s 8s/step - loss: 0.2857 - accuracy: 0.8254\n",
            "Epoch 32/100\n",
            "1/1 [==============================] - 8s 8s/step - loss: 0.2516 - accuracy: 0.8571\n",
            "Epoch 33/100\n",
            "1/1 [==============================] - 8s 8s/step - loss: 0.3029 - accuracy: 0.8413\n",
            "Epoch 34/100\n",
            "1/1 [==============================] - 8s 8s/step - loss: 0.2831 - accuracy: 0.8413\n",
            "Epoch 35/100\n",
            "1/1 [==============================] - 8s 8s/step - loss: 0.3212 - accuracy: 0.8413\n",
            "Epoch 36/100\n",
            "1/1 [==============================] - 8s 8s/step - loss: 0.2944 - accuracy: 0.8413\n",
            "Epoch 37/100\n",
            "1/1 [==============================] - 8s 8s/step - loss: 0.2524 - accuracy: 0.8730\n",
            "Epoch 38/100\n",
            "1/1 [==============================] - 8s 8s/step - loss: 0.2519 - accuracy: 0.8730\n",
            "Epoch 39/100\n",
            "1/1 [==============================] - 8s 8s/step - loss: 0.2968 - accuracy: 0.8730\n",
            "Epoch 40/100\n",
            "1/1 [==============================] - 8s 8s/step - loss: 0.2673 - accuracy: 0.8413\n",
            "Epoch 41/100\n",
            "1/1 [==============================] - 10s 10s/step - loss: 0.2420 - accuracy: 0.8730\n",
            "Epoch 42/100\n",
            "1/1 [==============================] - 8s 8s/step - loss: 0.2434 - accuracy: 0.8730\n",
            "Epoch 43/100\n",
            "1/1 [==============================] - 8s 8s/step - loss: 0.2580 - accuracy: 0.8571\n",
            "Epoch 44/100\n",
            "1/1 [==============================] - 8s 8s/step - loss: 0.2625 - accuracy: 0.8254\n",
            "Epoch 45/100\n",
            "1/1 [==============================] - 8s 8s/step - loss: 0.3107 - accuracy: 0.8413\n",
            "Epoch 46/100\n",
            "1/1 [==============================] - 8s 8s/step - loss: 0.2413 - accuracy: 0.8889\n",
            "Epoch 47/100\n",
            "1/1 [==============================] - 10s 10s/step - loss: 0.2520 - accuracy: 0.8889\n",
            "Epoch 48/100\n",
            "1/1 [==============================] - 8s 8s/step - loss: 0.2629 - accuracy: 0.8571\n",
            "Epoch 49/100\n",
            "1/1 [==============================] - 8s 8s/step - loss: 0.2132 - accuracy: 0.9206\n",
            "Epoch 50/100\n",
            "1/1 [==============================] - 8s 8s/step - loss: 0.2016 - accuracy: 0.8730\n",
            "Epoch 51/100\n",
            "1/1 [==============================] - 8s 8s/step - loss: 0.2913 - accuracy: 0.8730\n",
            "Epoch 52/100\n",
            "1/1 [==============================] - 8s 8s/step - loss: 0.1973 - accuracy: 0.8889\n",
            "Epoch 53/100\n",
            "1/1 [==============================] - 8s 8s/step - loss: 0.2487 - accuracy: 0.8571\n",
            "Epoch 54/100\n",
            "1/1 [==============================] - 8s 8s/step - loss: 0.2956 - accuracy: 0.8413\n",
            "Epoch 55/100\n",
            "1/1 [==============================] - 8s 8s/step - loss: 0.1947 - accuracy: 0.9365\n",
            "Epoch 56/100\n",
            "1/1 [==============================] - 8s 8s/step - loss: 0.2242 - accuracy: 0.8571\n",
            "Epoch 57/100\n",
            "1/1 [==============================] - 8s 8s/step - loss: 0.2079 - accuracy: 0.8889\n",
            "Epoch 58/100\n",
            "1/1 [==============================] - 8s 8s/step - loss: 0.3535 - accuracy: 0.8889\n",
            "Epoch 59/100\n",
            "1/1 [==============================] - 8s 8s/step - loss: 0.1806 - accuracy: 0.9365\n",
            "Epoch 60/100\n",
            "1/1 [==============================] - 8s 8s/step - loss: 0.2135 - accuracy: 0.8889\n",
            "Epoch 61/100\n",
            "1/1 [==============================] - 8s 8s/step - loss: 0.2766 - accuracy: 0.8571\n",
            "Epoch 62/100\n",
            "1/1 [==============================] - 8s 8s/step - loss: 0.2265 - accuracy: 0.9048\n",
            "Epoch 63/100\n",
            "1/1 [==============================] - 8s 8s/step - loss: 0.1875 - accuracy: 0.9048\n",
            "Epoch 64/100\n",
            "1/1 [==============================] - 9s 9s/step - loss: 0.2371 - accuracy: 0.9206\n",
            "Epoch 65/100\n",
            "1/1 [==============================] - 8s 8s/step - loss: 0.2060 - accuracy: 0.9048\n",
            "Epoch 66/100\n",
            "1/1 [==============================] - 8s 8s/step - loss: 0.1671 - accuracy: 0.9206\n",
            "Epoch 67/100\n",
            "1/1 [==============================] - 8s 8s/step - loss: 0.2141 - accuracy: 0.9048\n",
            "Epoch 68/100\n",
            "1/1 [==============================] - 8s 8s/step - loss: 0.1679 - accuracy: 0.9048\n",
            "Epoch 69/100\n",
            "1/1 [==============================] - 11s 11s/step - loss: 0.1702 - accuracy: 0.9206\n",
            "Epoch 70/100\n",
            "1/1 [==============================] - 8s 8s/step - loss: 0.2216 - accuracy: 0.8889\n",
            "Epoch 71/100\n",
            "1/1 [==============================] - 8s 8s/step - loss: 0.1508 - accuracy: 0.9524\n",
            "Epoch 72/100\n",
            "1/1 [==============================] - 8s 8s/step - loss: 0.1897 - accuracy: 0.9365\n",
            "Epoch 73/100\n",
            "1/1 [==============================] - 8s 8s/step - loss: 0.1654 - accuracy: 0.9048\n",
            "Epoch 74/100\n",
            "1/1 [==============================] - 8s 8s/step - loss: 0.1667 - accuracy: 0.9365\n",
            "Epoch 75/100\n",
            "1/1 [==============================] - 8s 8s/step - loss: 0.2479 - accuracy: 0.8730\n",
            "Epoch 76/100\n",
            "1/1 [==============================] - 8s 8s/step - loss: 0.2623 - accuracy: 0.8730\n",
            "Epoch 77/100\n",
            "1/1 [==============================] - 8s 8s/step - loss: 0.1850 - accuracy: 0.9048\n",
            "Epoch 78/100\n",
            "1/1 [==============================] - 8s 8s/step - loss: 0.1958 - accuracy: 0.9206\n",
            "Epoch 79/100\n",
            "1/1 [==============================] - 8s 8s/step - loss: 0.2160 - accuracy: 0.9206\n",
            "Epoch 80/100\n",
            "1/1 [==============================] - 8s 8s/step - loss: 0.2938 - accuracy: 0.8889\n",
            "Epoch 81/100\n",
            "1/1 [==============================] - 8s 8s/step - loss: 0.2378 - accuracy: 0.8889\n",
            "Epoch 82/100\n",
            "1/1 [==============================] - 8s 8s/step - loss: 0.2773 - accuracy: 0.8571\n",
            "Epoch 83/100\n",
            "1/1 [==============================] - 8s 8s/step - loss: 0.1896 - accuracy: 0.9365\n",
            "Epoch 84/100\n",
            "1/1 [==============================] - 8s 8s/step - loss: 0.2265 - accuracy: 0.9206\n",
            "Epoch 85/100\n",
            "1/1 [==============================] - 11s 11s/step - loss: 0.2411 - accuracy: 0.8889\n",
            "Epoch 86/100\n",
            "1/1 [==============================] - 8s 8s/step - loss: 0.4702 - accuracy: 0.8730\n",
            "Epoch 87/100\n",
            "1/1 [==============================] - 8s 8s/step - loss: 0.2393 - accuracy: 0.9048\n",
            "Epoch 88/100\n",
            "1/1 [==============================] - 8s 8s/step - loss: 0.2671 - accuracy: 0.8730\n",
            "Epoch 89/100\n",
            "1/1 [==============================] - 8s 8s/step - loss: 0.2298 - accuracy: 0.8571\n",
            "Epoch 90/100\n",
            "1/1 [==============================] - 9s 9s/step - loss: 0.2154 - accuracy: 0.8571\n",
            "Epoch 91/100\n",
            "1/1 [==============================] - 8s 8s/step - loss: 0.1218 - accuracy: 0.9524\n",
            "Epoch 92/100\n",
            "1/1 [==============================] - 8s 8s/step - loss: 0.2091 - accuracy: 0.8730\n",
            "Epoch 93/100\n",
            "1/1 [==============================] - 8s 8s/step - loss: 0.1987 - accuracy: 0.9048\n",
            "Epoch 94/100\n",
            "1/1 [==============================] - 8s 8s/step - loss: 0.1452 - accuracy: 0.9365\n",
            "Epoch 95/100\n",
            "1/1 [==============================] - 8s 8s/step - loss: 0.1609 - accuracy: 0.9206\n",
            "Epoch 96/100\n",
            "1/1 [==============================] - 8s 8s/step - loss: 0.1690 - accuracy: 0.9206\n",
            "Epoch 97/100\n",
            "1/1 [==============================] - 8s 8s/step - loss: 0.1896 - accuracy: 0.8730\n",
            "Epoch 98/100\n",
            "1/1 [==============================] - 8s 8s/step - loss: 0.2003 - accuracy: 0.9206\n",
            "Epoch 99/100\n",
            "1/1 [==============================] - 8s 8s/step - loss: 0.1710 - accuracy: 0.9365\n",
            "Epoch 100/100\n",
            "1/1 [==============================] - 8s 8s/step - loss: 0.1634 - accuracy: 0.9206\n",
            "1/1 [==============================] - 2s 2s/step\n",
            "***Performance on Validation data***\n",
            "Accuracy  : 0.0\n",
            "Precision : 0.0\n",
            "f1Score : 0.0\n",
            "[[ 0  0  0]\n",
            " [15  0  0]\n",
            " [ 3 13  0]]\n"
          ]
        },
        {
          "output_type": "stream",
          "name": "stderr",
          "text": [
            "/usr/local/lib/python3.8/dist-packages/sklearn/metrics/_classification.py:1318: UndefinedMetricWarning: Precision is ill-defined and being set to 0.0 in labels with no predicted samples. Use `zero_division` parameter to control this behavior.\n",
            "  _warn_prf(average, modifier, msg_start, len(result))\n"
          ]
        }
      ]
    },
    {
      "cell_type": "code",
      "source": [
        "\n",
        "# save the model to disk\n",
        "import pickle\n",
        "filename = 'finalized_model.h5'\n",
        "pickle.dump(model, open(filename, 'wb'))"
      ],
      "metadata": {
        "colab": {
          "base_uri": "https://localhost:8080/"
        },
        "id": "UNjDxwT7TiqT",
        "outputId": "60ae53fc-fdf2-4589-d9eb-4b10b61428b3"
      },
      "execution_count": null,
      "outputs": [
        {
          "output_type": "stream",
          "name": "stderr",
          "text": [
            "WARNING:absl:Found untraced functions such as _jit_compiled_convolution_op, _jit_compiled_convolution_op, _jit_compiled_convolution_op, _jit_compiled_convolution_op, _jit_compiled_convolution_op while saving (showing 5 of 6). These functions will not be directly callable after loading.\n"
          ]
        }
      ]
    },
    {
      "cell_type": "code",
      "source": [
        "# some time later...\n",
        " \n",
        "# load the model from disk\n",
        "#loaded_model = pickle.load(open(filename, 'rb'))\n",
        "#result = loaded_model.score(X_test, Y_test)\n",
        "#print(result)"
      ],
      "metadata": {
        "colab": {
          "base_uri": "https://localhost:8080/",
          "height": 133
        },
        "id": "eMznso5qXvXy",
        "outputId": "59b98d70-622b-4c3e-c6de-25290ceb75b9"
      },
      "execution_count": null,
      "outputs": [
        {
          "output_type": "error",
          "ename": "SyntaxError",
          "evalue": "ignored",
          "traceback": [
            "\u001b[0;36m  File \u001b[0;32m\"<ipython-input-97-2a6002e52a59>\"\u001b[0;36m, line \u001b[0;32m2\u001b[0m\n\u001b[0;31m    \u001b[0m\n\u001b[0m    ^\u001b[0m\n\u001b[0;31mSyntaxError\u001b[0m\u001b[0;31m:\u001b[0m invalid character in identifier\n"
          ]
        }
      ]
    },
    {
      "cell_type": "code",
      "source": [
        "import cv2"
      ],
      "metadata": {
        "id": "bvov141JHbRV"
      },
      "execution_count": null,
      "outputs": []
    },
    {
      "cell_type": "code",
      "source": [
        "img = (cv2.imread(\"/content/8.png\"))/255.0"
      ],
      "metadata": {
        "id": "E5t5Y9AqEkEb"
      },
      "execution_count": null,
      "outputs": []
    },
    {
      "cell_type": "code",
      "source": [
        "img = np.resize(img ,(1,100,100,3))"
      ],
      "metadata": {
        "id": "TfEB3rbtIGcK"
      },
      "execution_count": null,
      "outputs": []
    },
    {
      "cell_type": "code",
      "source": [
        "model.predict(img)"
      ],
      "metadata": {
        "id": "zkBZINmLym7A",
        "colab": {
          "base_uri": "https://localhost:8080/"
        },
        "outputId": "22a2e858-0c18-4dad-cc83-d39b87c385b3"
      },
      "execution_count": null,
      "outputs": [
        {
          "output_type": "stream",
          "name": "stdout",
          "text": [
            "1/1 [==============================] - 0s 40ms/step\n"
          ]
        },
        {
          "output_type": "execute_result",
          "data": {
            "text/plain": [
              "array([[0.19827849, 0.8017215 ]], dtype=float32)"
            ]
          },
          "metadata": {},
          "execution_count": 94
        }
      ]
    }
  ]
}